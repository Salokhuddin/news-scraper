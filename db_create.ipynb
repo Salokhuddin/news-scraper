{
 "cells": [
  {
   "cell_type": "code",
   "execution_count": 4,
   "metadata": {},
   "outputs": [],
   "source": [
    "import psycopg2"
   ]
  },
  {
   "cell_type": "code",
   "execution_count": 12,
   "metadata": {},
   "outputs": [],
   "source": [
    "# PostgreSQL connection parameters\n",
    "username = 'postgres'\n",
    "password = 'password'\n",
    "host = 'localhost'\n",
    "port = '5432'\n",
    "database_name = 'news_analytics'\n",
    "\n",
    "# Construct the connection string\n",
    "connection_string = f'postgresql://{username}:{password}@{host}:{port}/{database_name}'"
   ]
  },
  {
   "cell_type": "code",
   "execution_count": 5,
   "metadata": {},
   "outputs": [
    {
     "name": "stdout",
     "output_type": "stream",
     "text": [
      "Successfully connected to databse: news_analytics\n"
     ]
    }
   ],
   "source": [
    "try:\n",
    "    connection = psycopg2.connect(\"host=localhost dbname=news_analytics user=postgres password=password\")\n",
    "    print(\"Successfully connected to databse: news_analytics\")\n",
    "except psycopg2.Error as e:\n",
    "    print(\"The following error occurred: \")\n",
    "    print(e)"
   ]
  },
  {
   "cell_type": "code",
   "execution_count": 6,
   "metadata": {},
   "outputs": [
    {
     "name": "stdout",
     "output_type": "stream",
     "text": [
      "Got cursor successfully\n"
     ]
    }
   ],
   "source": [
    "try:\n",
    "    cursor = connection.cursor()\n",
    "    print(\"Got cursor successfully\")\n",
    "except Exception as e:\n",
    "    print(\"Error occurred while getting cursor to database: news_analytics\")\n",
    "    print(e)"
   ]
  },
  {
   "cell_type": "code",
   "execution_count": 7,
   "metadata": {},
   "outputs": [],
   "source": [
    "# Set autocommit to True\n",
    "connection.set_session(autocommit=True)"
   ]
  },
  {
   "cell_type": "code",
   "execution_count": 35,
   "metadata": {},
   "outputs": [
    {
     "name": "stdout",
     "output_type": "stream",
     "text": [
      "database \"news_analytics\" already exists\n",
      "\n"
     ]
    }
   ],
   "source": [
    "try:\n",
    "    cursor.execute(\"CREATE DATABASE news_analytics\")\n",
    "except Exception as e:\n",
    "    print(e)"
   ]
  },
  {
   "cell_type": "code",
   "execution_count": 21,
   "metadata": {},
   "outputs": [],
   "source": [
    "connection.close()"
   ]
  },
  {
   "cell_type": "code",
   "execution_count": 29,
   "metadata": {},
   "outputs": [],
   "source": [
    "cursor.execute(\"CREATE TABLE IF NOT EXISTS articles(\\\n",
    "               article_url VARCHAR(200) PRIMARY KEY,\\\n",
    "               headline VARCHAR(250) NOT NULL,\\\n",
    "               thesis_length_words INT,\\\n",
    "               thesis_length_chars INT,\\\n",
    "               publication_datetime TIMESTAMP NOT NULL,\\\n",
    "               article_category VARCHAR(50) NOT NULL,\\\n",
    "               number_of_views INT NOT NULL,\\\n",
    "               article_source VARCHAR(50) NOT NULL)\")"
   ]
  },
  {
   "cell_type": "code",
   "execution_count": 26,
   "metadata": {},
   "outputs": [],
   "source": [
    "article_url = \"putinning-taker-karlsonga\" \n",
    "headline = \"abc\"\n",
    "thesis_length_words = 6\n",
    "thesis_length_chars = 42\n",
    "publication_datetime = \"2016-06-22\"\n",
    "article_category = \"ЖАҲОН\"\n",
    "number_of_views = 45000\n",
    "article_source = \"kun.uz\"\n",
    "\n",
    "cursor.execute(\"INSERT INTO articles (article_url, headline, thesis_length_words, thesis_length_chars,\\\n",
    "                publication_datetime, article_category, number_of_views, article_source)\\\n",
    "               VALUES ('putinning-taker-karlsonga-intervyusi-asosiy-gaplar_1', 'headline', 6, 45, '2016-06-22 19:00:00',\\\n",
    "               'jahon', 45000, 'kun.uz')\")"
   ]
  },
  {
   "cell_type": "code",
   "execution_count": null,
   "metadata": {},
   "outputs": [],
   "source": [
    "article_url = \"putinning-taker-karlsonga\" \n",
    "headline = \"abc\"\n",
    "thesis_length_words = 6\n",
    "thesis_length_chars = 42\n",
    "publication_datetime = \"2016-06-22\"\n",
    "article_category = \"ЖАҲОН\"\n",
    "number_of_views = 45000\n",
    "article_source = \"kun.uz\"\n",
    "\n",
    "cursor.execute(\"INSERT INTO articles (article_url, headline, thesis_length_words, thesis_length_chars,\\\n",
    "                publication_datetime, article_category, number_of_views, article_source)\\\n",
    "               VALUES ('putinning-taker-karlsonga-intervyusi-asosiy-gaplar_1', 'headline', 6, 45, '2016-06-22 19:00:00',\\\n",
    "               'jahon', 45000, 'kun.uz')\")"
   ]
  },
  {
   "cell_type": "code",
   "execution_count": 39,
   "metadata": {},
   "outputs": [],
   "source": [
    "article_url = \"putinning-taker-karlsonga\" \n",
    "headline = \"abc\"\n",
    "thesis_length_words = 6\n",
    "thesis_length_chars = 42\n",
    "publication_datetime = \"2016-06-22\"\n",
    "article_category = \"ЖАҲОН\"\n",
    "number_of_views = 45000\n",
    "article_source = \"kun.uz\"\n",
    "\n",
    "cursor.execute(\"INSERT INTO articles (article_url, headline, thesis_length_words, thesis_length_chars,\\\n",
    "                publication_datetime, article_category, number_of_views, article_source)\\\n",
    "               VALUES (%s, %s, %s, %s, %s, %s, %s, %s)\",\\\n",
    "               (article_url, headline, thesis_length_words, thesis_length_chars, publication_datetime, article_category, number_of_views, article_source))\n"
   ]
  },
  {
   "cell_type": "code",
   "execution_count": 40,
   "metadata": {},
   "outputs": [
    {
     "name": "stdout",
     "output_type": "stream",
     "text": [
      "('putinning-taker-karlsonga-intervyusi-asosiy-gaplar', 'headline', 6, 45, datetime.datetime(2016, 6, 22, 19, 0), 'jahon', 45000, 'kun.uz')\n",
      "('putinning-taker-karlsonga-intervyusi-asosiy-gaplar_1', 'headline', 6, 45, datetime.datetime(2016, 6, 22, 19, 0), 'jahon', 45000, 'kun.uz')\n",
      "('putinning-taker-karlsonga', 'abc', 6, 42, datetime.datetime(2016, 6, 22, 0, 0), 'ЖАҲОН', 45000, 'kun.uz')\n"
     ]
    }
   ],
   "source": [
    "cursor.execute(\"SELECT * FROM articles;\")\n",
    "\n",
    "row = cursor.fetchall()\n",
    "for i in range(len(row)):\n",
    "    print(row[i])"
   ]
  },
  {
   "cell_type": "code",
   "execution_count": 1,
   "metadata": {},
   "outputs": [],
   "source": [
    "import pandas as pd"
   ]
  },
  {
   "cell_type": "code",
   "execution_count": 14,
   "metadata": {},
   "outputs": [],
   "source": [
    "pd.set_option(\"display.max_colwidth\", 500)"
   ]
  },
  {
   "cell_type": "code",
   "execution_count": 22,
   "metadata": {},
   "outputs": [],
   "source": [
    "articles = pd.read_csv(\"articles.csv\")"
   ]
  },
  {
   "cell_type": "code",
   "execution_count": 24,
   "metadata": {},
   "outputs": [
    {
     "data": {
      "text/plain": [
       "0                Олам\n",
       "1                Олам\n",
       "2              Таҳлил\n",
       "3                Олам\n",
       "4            Криминал\n",
       "5                Олам\n",
       "6              Жамият\n",
       "7              Жамият\n",
       "8                Олам\n",
       "9            Криминал\n",
       "10               Олам\n",
       "11           Интервью\n",
       "12           Криминал\n",
       "13           Бу қизиқ\n",
       "14               Олам\n",
       "15               Олам\n",
       "16             Жамият\n",
       "17           Криминал\n",
       "18               Олам\n",
       "19         Технология\n",
       "20               Олам\n",
       "21               Олам\n",
       "22           Бу қизиқ\n",
       "23               Олам\n",
       "24         Саломатлик\n",
       "25               Олам\n",
       "26               Олам\n",
       "27               Олам\n",
       "28               Олам\n",
       "29           Криминал\n",
       "30           Бу қизиқ\n",
       "31             Жамият\n",
       "32               Олам\n",
       "33           Криминал\n",
       "34               Олам\n",
       "35               Олам\n",
       "36           Бу қизиқ\n",
       "37               Олам\n",
       "38               Олам\n",
       "39    Маданият-санъат\n",
       "40           Криминал\n",
       "41    Маданият-санъат\n",
       "42               Олам\n",
       "43              Спорт\n",
       "Name: article_category, dtype: object"
      ]
     },
     "execution_count": 24,
     "metadata": {},
     "output_type": "execute_result"
    }
   ],
   "source": [
    "articles[\"article_category\"]"
   ]
  }
 ],
 "metadata": {
  "kernelspec": {
   "display_name": "base",
   "language": "python",
   "name": "python3"
  },
  "language_info": {
   "codemirror_mode": {
    "name": "ipython",
    "version": 3
   },
   "file_extension": ".py",
   "mimetype": "text/x-python",
   "name": "python",
   "nbconvert_exporter": "python",
   "pygments_lexer": "ipython3",
   "version": "3.11.5"
  }
 },
 "nbformat": 4,
 "nbformat_minor": 2
}
